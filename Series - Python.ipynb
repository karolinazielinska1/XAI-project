{
 "cells": [
  {
   "cell_type": "code",
   "execution_count": 44,
   "id": "f69ad353",
   "metadata": {},
   "outputs": [
    {
     "name": "stderr",
     "output_type": "stream",
     "text": [
      "[nltk_data] Downloading package stopwords to\n",
      "[nltk_data]     /home/karolina/nltk_data...\n",
      "[nltk_data]   Package stopwords is already up-to-date!\n"
     ]
    }
   ],
   "source": [
    "import pandas as pd\n",
    "import numpy as np\n",
    "import statistics\n",
    "import regex as re\n",
    "from scipy import stats\n",
    "\n",
    "import nltk\n",
    "from nltk.util import ngrams\n",
    "from sklearn.feature_extraction.text import ENGLISH_STOP_WORDS\n",
    "from collections import Counter\n",
    "\n",
    "# Download NLTK stopwords if not already\n",
    "nltk.download('stopwords')\n",
    "from nltk.corpus import stopwords\n",
    "from nltk.tokenize import word_tokenize\n",
    "\n",
    "from statsmodels.miscmodels.ordinal_model import OrderedModel\n",
    "from statsmodels.stats.outliers_influence import variance_inflation_factor\n",
    "import statsmodels.api as sm\n",
    "\n",
    "from scipy import stats"
   ]
  },
  {
   "cell_type": "markdown",
   "id": "2297266e",
   "metadata": {},
   "source": [
    "<p style=\"font-size:30px\">\n",
    "Reading the Data\n",
    "</p>"
   ]
  },
  {
   "cell_type": "markdown",
   "id": "c56522b2",
   "metadata": {},
   "source": [
    "<div style=\"font-size:15px\">\n",
    "The dataset contains information about TV series, including:\n",
    "\n",
    "- 📅 Year of release  \n",
    "- 🔞 Content rating  \n",
    "- ⭐ IMDB and R ratings  \n",
    "- 🎭 Genre  \n",
    "- 📝 Description of the show  \n",
    "- 📈 Number of seasons  \n",
    "- 📺 Available streaming platforms  \n",
    "\n",
    "The dataset includes **12,353 observations**.\n",
    "</div>"
   ]
  },
  {
   "cell_type": "code",
   "execution_count": 45,
   "id": "b20b9b03",
   "metadata": {},
   "outputs": [],
   "source": [
    "data = pd.read_csv(\"data/All_Streaming_Shows.csv\")"
   ]
  },
  {
   "cell_type": "code",
   "execution_count": 46,
   "id": "115693c8",
   "metadata": {},
   "outputs": [
    {
     "data": {
      "text/html": [
       "<div>\n",
       "<style scoped>\n",
       "    .dataframe tbody tr th:only-of-type {\n",
       "        vertical-align: middle;\n",
       "    }\n",
       "\n",
       "    .dataframe tbody tr th {\n",
       "        vertical-align: top;\n",
       "    }\n",
       "\n",
       "    .dataframe thead th {\n",
       "        text-align: right;\n",
       "    }\n",
       "</style>\n",
       "<table border=\"1\" class=\"dataframe\">\n",
       "  <thead>\n",
       "    <tr style=\"text-align: right;\">\n",
       "      <th></th>\n",
       "      <th>Series Title</th>\n",
       "      <th>Year Released</th>\n",
       "      <th>Content Rating</th>\n",
       "      <th>IMDB Rating</th>\n",
       "      <th>R Rating</th>\n",
       "      <th>Genre</th>\n",
       "      <th>Description</th>\n",
       "      <th>No of Seasons</th>\n",
       "      <th>Streaming Platform</th>\n",
       "    </tr>\n",
       "  </thead>\n",
       "  <tbody>\n",
       "    <tr>\n",
       "      <th>0</th>\n",
       "      <td>Breaking Bad</td>\n",
       "      <td>2008</td>\n",
       "      <td>18+</td>\n",
       "      <td>9.5</td>\n",
       "      <td>100</td>\n",
       "      <td>Crime,Drama</td>\n",
       "      <td>When Walter White, a New Mexico chemistry teac...</td>\n",
       "      <td>5Seasons</td>\n",
       "      <td>Netflix</td>\n",
       "    </tr>\n",
       "    <tr>\n",
       "      <th>1</th>\n",
       "      <td>Game of Thrones</td>\n",
       "      <td>2011</td>\n",
       "      <td>18+</td>\n",
       "      <td>9.3</td>\n",
       "      <td>99</td>\n",
       "      <td>Action &amp; Adventure,Drama</td>\n",
       "      <td>Seven noble families fight for control of the ...</td>\n",
       "      <td>8Seasons</td>\n",
       "      <td>HBO MAX,HBO</td>\n",
       "    </tr>\n",
       "    <tr>\n",
       "      <th>2</th>\n",
       "      <td>Rick and Morty</td>\n",
       "      <td>2013</td>\n",
       "      <td>18+</td>\n",
       "      <td>9.2</td>\n",
       "      <td>97</td>\n",
       "      <td>Animation,Comedy</td>\n",
       "      <td>Rick is a mentally-unbalanced but scientifical...</td>\n",
       "      <td>4Seasons</td>\n",
       "      <td>Free Services,HBO MAX,Hulu</td>\n",
       "    </tr>\n",
       "    <tr>\n",
       "      <th>3</th>\n",
       "      <td>Stranger Things</td>\n",
       "      <td>2016</td>\n",
       "      <td>16+</td>\n",
       "      <td>8.8</td>\n",
       "      <td>96</td>\n",
       "      <td>Drama,Fantasy</td>\n",
       "      <td>When a young boy vanishes, a small town uncove...</td>\n",
       "      <td>3Seasons</td>\n",
       "      <td>Netflix</td>\n",
       "    </tr>\n",
       "    <tr>\n",
       "      <th>4</th>\n",
       "      <td>The Boys</td>\n",
       "      <td>2019</td>\n",
       "      <td>18+</td>\n",
       "      <td>8.7</td>\n",
       "      <td>95</td>\n",
       "      <td>Action &amp; Adventure,Comedy</td>\n",
       "      <td>A group of vigilantes known informally as “The...</td>\n",
       "      <td>2Seasons</td>\n",
       "      <td>Prime Video</td>\n",
       "    </tr>\n",
       "  </tbody>\n",
       "</table>\n",
       "</div>"
      ],
      "text/plain": [
       "      Series Title  Year Released Content Rating  IMDB Rating  R Rating  \\\n",
       "0     Breaking Bad           2008            18+          9.5       100   \n",
       "1  Game of Thrones           2011            18+          9.3        99   \n",
       "2   Rick and Morty           2013            18+          9.2        97   \n",
       "3  Stranger Things           2016            16+          8.8        96   \n",
       "4         The Boys           2019            18+          8.7        95   \n",
       "\n",
       "                       Genre  \\\n",
       "0                Crime,Drama   \n",
       "1   Action & Adventure,Drama   \n",
       "2           Animation,Comedy   \n",
       "3              Drama,Fantasy   \n",
       "4  Action & Adventure,Comedy   \n",
       "\n",
       "                                         Description No of Seasons  \\\n",
       "0  When Walter White, a New Mexico chemistry teac...      5Seasons   \n",
       "1  Seven noble families fight for control of the ...      8Seasons   \n",
       "2  Rick is a mentally-unbalanced but scientifical...      4Seasons   \n",
       "3  When a young boy vanishes, a small town uncove...      3Seasons   \n",
       "4  A group of vigilantes known informally as “The...      2Seasons   \n",
       "\n",
       "           Streaming Platform  \n",
       "0                     Netflix  \n",
       "1                 HBO MAX,HBO  \n",
       "2  Free Services,HBO MAX,Hulu  \n",
       "3                     Netflix  \n",
       "4                 Prime Video  "
      ]
     },
     "execution_count": 46,
     "metadata": {},
     "output_type": "execute_result"
    }
   ],
   "source": [
    "data.head()"
   ]
  },
  {
   "cell_type": "code",
   "execution_count": 47,
   "id": "c5126ab9",
   "metadata": {},
   "outputs": [
    {
     "data": {
      "text/plain": [
       "(12353, 9)"
      ]
     },
     "execution_count": 47,
     "metadata": {},
     "output_type": "execute_result"
    }
   ],
   "source": [
    "data.shape"
   ]
  },
  {
   "cell_type": "markdown",
   "id": "f379403c",
   "metadata": {},
   "source": [
    "<p style=\"font-size:30px\">\n",
    "Data Preparation\n",
    "</p>"
   ]
  },
  {
   "cell_type": "markdown",
   "id": "f4b033fb",
   "metadata": {},
   "source": [
    "\n",
    "There are multiple missing values in the following columns:\n",
    "\n",
    "- **Content Rating**\n",
    "- **Streaming Platform**\n",
    "- **IMDB Rating**\n",
    "\n",
    "#### 🔧 IMDB Rating\n",
    "Missing values in the **IMDB Rating** column were replaced using the **mode**, grouped by the corresponding **R Rating** values.  \n",
    "Observations where mode imputation was not possible were dropped from the dataset.\n",
    "\n",
    "#### 🏷️ Streaming Platform\n",
    "Missing values in the **Streaming Platform** column were replaced with `\"Unknown\"` to allow for modeling.\n",
    "\n",
    "#### 🆔 Content Rating\n",
    "Missing values in the **Content Rating** column were handled by incorporating them into a new dummy variable: `\"Not R Rated\"`.\n",
    "\n",
    "### ❌ Error Value Handling\n",
    "\n",
    "The **Genre**, **Description**, and **R Rating** columns contained multiple invalid observations marked as `\"-1\"`.  \n",
    "After removing all rows with these error values, **9,371 observations** remain.\n"
   ]
  },
  {
   "cell_type": "code",
   "execution_count": 48,
   "id": "4aa162ab",
   "metadata": {},
   "outputs": [
    {
     "data": {
      "text/html": [
       "<div>\n",
       "<style scoped>\n",
       "    .dataframe tbody tr th:only-of-type {\n",
       "        vertical-align: middle;\n",
       "    }\n",
       "\n",
       "    .dataframe tbody tr th {\n",
       "        vertical-align: top;\n",
       "    }\n",
       "\n",
       "    .dataframe thead th {\n",
       "        text-align: right;\n",
       "    }\n",
       "</style>\n",
       "<table border=\"1\" class=\"dataframe\">\n",
       "  <thead>\n",
       "    <tr style=\"text-align: right;\">\n",
       "      <th></th>\n",
       "      <th>Series Title</th>\n",
       "      <th>Content Rating</th>\n",
       "      <th>Genre</th>\n",
       "      <th>Description</th>\n",
       "      <th>No of Seasons</th>\n",
       "      <th>Streaming Platform</th>\n",
       "    </tr>\n",
       "  </thead>\n",
       "  <tbody>\n",
       "    <tr>\n",
       "      <th>count</th>\n",
       "      <td>12353</td>\n",
       "      <td>7232</td>\n",
       "      <td>12353</td>\n",
       "      <td>12353</td>\n",
       "      <td>12353</td>\n",
       "      <td>10370</td>\n",
       "    </tr>\n",
       "    <tr>\n",
       "      <th>unique</th>\n",
       "      <td>12109</td>\n",
       "      <td>5</td>\n",
       "      <td>858</td>\n",
       "      <td>11875</td>\n",
       "      <td>94</td>\n",
       "      <td>530</td>\n",
       "    </tr>\n",
       "    <tr>\n",
       "      <th>top</th>\n",
       "      <td>Kingdom</td>\n",
       "      <td>16+</td>\n",
       "      <td>-1</td>\n",
       "      <td>-1</td>\n",
       "      <td>1Season</td>\n",
       "      <td>Netflix</td>\n",
       "    </tr>\n",
       "    <tr>\n",
       "      <th>freq</th>\n",
       "      <td>4</td>\n",
       "      <td>2581</td>\n",
       "      <td>479</td>\n",
       "      <td>479</td>\n",
       "      <td>5204</td>\n",
       "      <td>1427</td>\n",
       "    </tr>\n",
       "  </tbody>\n",
       "</table>\n",
       "</div>"
      ],
      "text/plain": [
       "       Series Title Content Rating  Genre Description No of Seasons  \\\n",
       "count         12353           7232  12353       12353         12353   \n",
       "unique        12109              5    858       11875            94   \n",
       "top         Kingdom            16+     -1          -1       1Season   \n",
       "freq              4           2581    479         479          5204   \n",
       "\n",
       "       Streaming Platform  \n",
       "count               10370  \n",
       "unique                530  \n",
       "top               Netflix  \n",
       "freq                 1427  "
      ]
     },
     "execution_count": 48,
     "metadata": {},
     "output_type": "execute_result"
    }
   ],
   "source": [
    "data.describe(include=object)"
   ]
  },
  {
   "cell_type": "code",
   "execution_count": 49,
   "id": "68f16a5e",
   "metadata": {},
   "outputs": [
    {
     "data": {
      "text/plain": [
       "Series Title           object\n",
       "Year Released           int64\n",
       "Content Rating         object\n",
       "IMDB Rating           float64\n",
       "R Rating                int64\n",
       "Genre                  object\n",
       "Description            object\n",
       "No of Seasons          object\n",
       "Streaming Platform     object\n",
       "dtype: object"
      ]
     },
     "execution_count": 49,
     "metadata": {},
     "output_type": "execute_result"
    }
   ],
   "source": [
    "data.dtypes"
   ]
  },
  {
   "cell_type": "code",
   "execution_count": 50,
   "id": "f3052b0e",
   "metadata": {},
   "outputs": [
    {
     "name": "stdout",
     "output_type": "stream",
     "text": [
      "                            Series Title  Year Released Content Rating  \\\n",
      "186                               Castle           2009            16+   \n",
      "250                             Gomorrah           2014            18+   \n",
      "337                       Masters of Sex           2013            18+   \n",
      "345                                Louie           2010            18+   \n",
      "350                            Continuum           2012            16+   \n",
      "...                                  ...            ...            ...   \n",
      "12348  A Fishing Story with Ronnie Green           2017            NaN   \n",
      "12349                  CMT Most Shocking           2003            NaN   \n",
      "12350   NHL Road to the Outdoor Classics           2016            NaN   \n",
      "12351                         Addy Media           2018            NaN   \n",
      "12352             My Dream Derelict Home           2014            NaN   \n",
      "\n",
      "       IMDB Rating  R Rating                     Genre  \\\n",
      "186            8.1        83              Comedy,Crime   \n",
      "250            8.7        82               Drama,Crime   \n",
      "337            7.9        80             Drama,Romance   \n",
      "345            8.5        80    Comedy,Stand-up & Talk   \n",
      "350            7.6        80  Action & Adventure,Drama   \n",
      "...            ...       ...                       ...   \n",
      "12348          NaN        -1          2017,Prime Video   \n",
      "12349          NaN        -1                        -1   \n",
      "12350          NaN        -1          2016,Prime Video   \n",
      "12351          NaN        -1          2018,Prime Video   \n",
      "12352          NaN        -1        2014,Free Services   \n",
      "\n",
      "                                             Description No of Seasons  \\\n",
      "186    After a serial killer imitates the plots of hi...      8Seasons   \n",
      "250    Based on Robert Saviano's bestselling book, th...      4Seasons   \n",
      "337    William Masters and Virginia Johnson are real-...      4Seasons   \n",
      "345    Louis C.K. stars as a fictionalized version of...     5 Seasons   \n",
      "350    The series centers on the conflict between a g...      4Seasons   \n",
      "...                                                  ...           ...   \n",
      "12348  A Fishing Story with Ronnie Green has one or m...      2Seasons   \n",
      "12349                                                 -1            -1   \n",
      "12350  Road to the NHL Outdoor Classics takes us deep...       1Season   \n",
      "12351  Addy Media has one or more episodes streaming ...       1Season   \n",
      "12352  My Dream Derelict Home has one or more episode...       1Season   \n",
      "\n",
      "              Streaming Platform  \n",
      "186                          NaN  \n",
      "250                          NaN  \n",
      "337                          NaN  \n",
      "345                          NaN  \n",
      "350                          NaN  \n",
      "...                          ...  \n",
      "12348         Prime Video,fuboTV  \n",
      "12349                         -1  \n",
      "12350           Prime Video,Epix  \n",
      "12351                Prime Video  \n",
      "12352  Free Services,Prime Video  \n",
      "\n",
      "[6433 rows x 9 columns]\n"
     ]
    }
   ],
   "source": [
    "empty_data=data.isnull().any(axis=1)\n",
    "null_rows=data[empty_data]\n",
    "print(null_rows)"
   ]
  },
  {
   "cell_type": "code",
   "execution_count": 51,
   "id": "c565f41e",
   "metadata": {},
   "outputs": [
    {
     "data": {
      "text/plain": [
       "array([100,  99,  97,  96,  95,  94,  93,  92,  91,  90,  89,  88,  87,\n",
       "        86,  85,  84,  83,  82,  81,  80,  79,  78,  77,  76,  75,  74,\n",
       "        73,  72,  71,  70,  69,  68,  67,  66,  65,  64,  63,  62,  61,\n",
       "        60,  59,  58,  57,  56,  55,  54,  53,  52,  51,  50,  49,  48,\n",
       "        47,  46,  45,  44,  43,  42,  41,  40,  39,  38,  37,  36,  35,\n",
       "        34,  33,  32,  31,  30,  29,  28,  27,  26,  25,  24,  23,  22,\n",
       "        21,  20,  19,  18,  17,  16,  15,  13,  10,  -1])"
      ]
     },
     "execution_count": 51,
     "metadata": {},
     "output_type": "execute_result"
    }
   ],
   "source": [
    "data['R Rating'].unique()"
   ]
  },
  {
   "cell_type": "code",
   "execution_count": 52,
   "id": "5349ddbd",
   "metadata": {},
   "outputs": [
    {
     "data": {
      "text/plain": [
       "9371"
      ]
     },
     "execution_count": 52,
     "metadata": {},
     "output_type": "execute_result"
    }
   ],
   "source": [
    "# We have 9371 rows with normal values\n",
    "len(data[(data[\"Genre\"]!=\"-1\") & (data[\"R Rating\"]!=-1) & (data[\"Description\"]!=\"-1\") & (data[\"Streaming Platform\"])])\n"
   ]
  },
  {
   "cell_type": "code",
   "execution_count": 53,
   "id": "833aef81",
   "metadata": {},
   "outputs": [],
   "source": [
    "# We filter out \"-1\" values from the dataset\n",
    "data=data[(data[\"Genre\"]!=\"-1\") & (data[\"R Rating\"]!=-1) & (data[\"Description\"]!=\"-1\") & (data[\"Streaming Platform\"])]"
   ]
  },
  {
   "cell_type": "code",
   "execution_count": 54,
   "id": "903fdd05",
   "metadata": {},
   "outputs": [],
   "source": [
    "# We replace empty values in \"IMDB Rating\" with their mode values based on the R Rating score\n",
    "data[\"IMDB Rating\"]=data.groupby(\"R Rating\")[\"IMDB Rating\"].transform(lambda x: x.fillna(x.mode()[0] if not x.mode().empty else np.nan))"
   ]
  },
  {
   "cell_type": "code",
   "execution_count": 55,
   "id": "99452736",
   "metadata": {},
   "outputs": [],
   "source": [
    "# We drop NaN values from \"IMDB Rating\"\n",
    "data.dropna(subset=[\"IMDB Rating\"], inplace=True)"
   ]
  },
  {
   "cell_type": "markdown",
   "id": "dafa2162",
   "metadata": {},
   "source": [
    "\n",
    "### Cleaning and Encoding Categorical Columns\n",
    "\n",
    "\n",
    "\n",
    "Several columns with `object` data type — namely **Genre**, **Streaming Platform**, and **Content Rating** — were cleaned and preprocessed before modeling in the following way:\n",
    "\n",
    "- Removed 4-digit year values using regex\n",
    "- Removed plus signs (`+`)\n",
    "- Replaced `\"-1\"` values with `\"Unknown\"` \n",
    "- Cleaned leading/trailing commas with regex\n",
    "- Stripped extra whitespace\n",
    "- Replaced empty strings with `\"Unknown\"`\n",
    "\n",
    "**Content Rating** was split into two categories: \"R Rated\" and \"Not R Rated\".\n",
    "\n",
    "**Genre** and other categorical columns were one-hot encoded using dummy variables.\n",
    "\n",
    "**Number of Seasons** was converted to a numeric type.\n"
   ]
  },
  {
   "cell_type": "code",
   "execution_count": 56,
   "id": "ed48e717",
   "metadata": {},
   "outputs": [
    {
     "data": {
      "text/plain": [
       "array(['Crime,Drama', 'Action & Adventure,Drama', 'Animation,Comedy',\n",
       "       'Drama,Fantasy', 'Action & Adventure,Comedy', 'Drama,History',\n",
       "       'Action & Adventure,Crime', 'Action & Adventure,Animation',\n",
       "       'Comedy,Romance', 'Comedy,2005', 'Comedy,Crime',\n",
       "       'Action & Adventure,Anime', 'Drama,Science-Fiction',\n",
       "       'Drama,Mystery', 'Fantasy,Crime', 'Thriller,Action & Adventure',\n",
       "       'Drama,Thriller', 'Action & Adventure,Science-Fiction',\n",
       "       'Drama,Horror', 'Comedy,LGBTQ', 'Comedy,2009', 'Drama,2007',\n",
       "       'Comedy,Drama', 'Drama,Comedy', 'Documentary,Biography',\n",
       "       'Comedy,Stand-up & Talk', 'Horror,Drama',\n",
       "       'Drama,Action & Adventure', 'Drama,Romance', 'Drama,Sport',\n",
       "       'Thriller,Biography', 'Science-Fiction,Animation', 'Comedy,2003',\n",
       "       'Action & Adventure,Thriller', 'Thriller,LGBTQ', 'Comedy,2014',\n",
       "       'Drama,2018', 'Drama,LGBTQ', 'Drama,Crime',\n",
       "       'Action & Adventure,Fantasy', 'Comedy,2000', 'Biography,Drama',\n",
       "       'Action & Adventure,History', 'Horror,Thriller', 'Comedy,2006',\n",
       "       'Documentary,2016', 'Comedy,Fantasy', 'Drama,2016', 'Drama,1999',\n",
       "       'Animation,Science-Fiction', 'Fantasy,Science-Fiction',\n",
       "       'Comedy,2015', 'Comedy,2011', 'Thriller,Crime', 'Animation,Anime',\n",
       "       'Comedy,Family', 'Comedy,Musical', 'Mystery,Science-Fiction',\n",
       "       'Horror,Comedy', 'Comedy,Action & Adventure', 'Documentary,Crime',\n",
       "       'Drama,2020', 'Comedy,Mystery', 'Documentary,2019',\n",
       "       'Animation,Children', 'Mystery,Comedy', 'Comedy,Horror',\n",
       "       'Comedy,1993', 'Comedy,2012', 'Mystery,Drama', 'Drama,2012',\n",
       "       'Science-Fiction,Action & Adventure', 'Comedy,1975', 'Drama,2014',\n",
       "       'Animation,Action & Adventure', 'Comedy,Travel', 'Drama,Family',\n",
       "       'Documentary,History', 'Documentary,2014',\n",
       "       'Action & Adventure,Mystery', 'Reality,LGBTQ', 'Comedy,1969',\n",
       "       'Comedy,Animation', 'Comedy,Documentary', 'Comedy,Science-Fiction',\n",
       "       'Drama,2017', 'Drama,2010', 'Comedy,1995', 'Biography,Crime',\n",
       "       'Drama,Documentary', 'Fantasy,Horror', 'Documentary,Cult',\n",
       "       'Comedy,Sport', 'Comedy,2008', 'Drama,2013', 'Thriller,Drama',\n",
       "       'Comedy,2018', 'Fantasy,Action & Adventure', 'Documentary,Comedy',\n",
       "       'Documentary,Food', 'Drama,Biography', 'Crime,Documentary',\n",
       "       'Comedy,2020', 'Documentary,2020', 'Crime,Mystery', 'Crime,Cult',\n",
       "       'Documentary,2018', 'Drama,2019', 'Documentary,Travel',\n",
       "       'Musical,Comedy', 'Documentary,Reality', 'Comedy,1992',\n",
       "       'Comedy,2019', 'Crime,Thriller', 'Comedy,2016', 'Comedy,1998',\n",
       "       'Drama,2003', 'Action & Adventure,LGBTQ', 'Documentary,Sport',\n",
       "       'Drama,2015', 'Horror,Mystery', 'Biography,Comedy', 'Comedy,1987',\n",
       "       'Drama,Musical', 'Drama,2011', 'Comedy,2013', 'Children,Drama',\n",
       "       'Comedy,1996', 'Reality,Action & Adventure', 'Animation,Romance',\n",
       "       'Drama,2008', 'Comedy,Game Show', 'Comedy,Anime',\n",
       "       'Documentary,Drama', 'Comedy,1983', 'Documentary,2017',\n",
       "       'Comedy,2017', 'Romance,Drama', 'History,Biography',\n",
       "       'Mystery,Thriller', 'Science-Fiction,Drama', 'Family,Comedy',\n",
       "       'Children,Animation', 'Family,Drama', 'Comedy,Biography',\n",
       "       'History,Drama', 'Game Show,LGBTQ', 'Reality,Game Show',\n",
       "       'Children,Comedy', 'Fantasy,Romance', 'Comedy,1981',\n",
       "       'Sport,Documentary', 'Comedy,1965', 'Action & Adventure,Reality',\n",
       "       'Drama,2006', 'Reality,Sport', 'Comedy,Reality', 'Reality,Food',\n",
       "       'Game Show,Reality', 'Crime,Horror', 'Fantasy,Children',\n",
       "       'Drama,Anime', 'Fantasy,Animation', 'Animation,Drama',\n",
       "       'Drama,Cult', 'Action & Adventure,Cult',\n",
       "       'Action & Adventure,Documentary', 'Action & Adventure,Children',\n",
       "       '2018,Netflix', 'Reality,Documentary', 'Comedy,1990',\n",
       "       'Romance,Reality', 'Comedy,1997', 'Fantasy,Drama', 'Reality,2020',\n",
       "       'Fantasy,Anime', 'Drama,2005', 'Action & Adventure,1955',\n",
       "       'Documentary,Family', 'Documentary,Home & Garden',\n",
       "       'Fantasy,Mystery', 'Comedy,History', 'Reality,Family',\n",
       "       'Documentary,Action & Adventure', 'Documentary,2010',\n",
       "       'Reality,2011', 'Documentary,2015', 'Documentary,LGBTQ',\n",
       "       'Documentary,1974', 'Animation,Family',\n",
       "       'Romance,Action & Adventure', 'Comedy,2002',\n",
       "       'Science-Fiction,Fantasy', 'Comedy,2010', 'Game Show,1964',\n",
       "       'Comedy,1980', 'Crime,Reality', 'Action & Adventure,Sport',\n",
       "       'Reality,2016', 'Science-Fiction,Thriller', 'Comedy,1978',\n",
       "       'Drama,Stand-up & Talk', 'Animation,Fantasy', 'Children,Family',\n",
       "       'Comedy,2004', 'Comedy,1994', 'Reality,2012', 'Food,Documentary',\n",
       "       'Documentary,Game Show', 'Comedy,Home & Garden',\n",
       "       'Children,Fantasy', 'Science-Fiction,Mystery', 'Documentary,2003',\n",
       "       'Drama,1976', 'Documentary,Animation', 'Romance,Anime',\n",
       "       'Drama,1990', 'Documentary,2001', 'Reality,2019', 'Reality,2014',\n",
       "       'Comedy,1972', 'Family,Fantasy', 'Comedy,1970',\n",
       "       'Action & Adventure,Family', 'Reality,Romance', 'Comedy,2001',\n",
       "       'Reality,Thriller', 'Reality,Horror', 'Action & Adventure,Romance',\n",
       "       'Home & Garden,Reality', 'Documentary,2011',\n",
       "       'Crime,Stand-up & Talk', 'Reality,2013', 'Horror,Science-Fiction',\n",
       "       'Comedy,1985', 'Sport,Drama', 'Drama,Children',\n",
       "       'Family,Documentary', 'Thriller,Science-Fiction', 'Comedy,1989',\n",
       "       'Comedy,2007', 'Thriller,Anime', 'Crime,Fantasy',\n",
       "       'Documentary,Horror', 'Sport,Anime', 'Reality,Travel',\n",
       "       'Science-Fiction,Horror', 'Action & Adventure,1981',\n",
       "       'Reality,Comedy', 'Family,Reality', 'Reality,Drama', 'Travel,Food',\n",
       "       'Action & Adventure,Food', 'Comedy,1986', 'Comedy,1999',\n",
       "       'Drama,1998', 'Action & Adventure,Horror', 'Documentary,1968',\n",
       "       'Documentary,1992', 'Documentary,Fantasy', 'Reality,2018',\n",
       "       'Food,2016', 'Documentary,Mystery', 'Reality,2007',\n",
       "       'Children,Action & Adventure', 'Action & Adventure,Game Show',\n",
       "       'Drama,Food', 'Action & Adventure,1949', 'History,Documentary',\n",
       "       'Reality,Home & Garden', 'Documentary,1983', 'Biography,History',\n",
       "       'Food,Reality', 'Horror,Documentary', 'Family,Food',\n",
       "       'Food,Game Show', 'Romance,Comedy', 'Comedy,Cult', 'Reality,2008',\n",
       "       'Drama,Reality', 'Comedy,1979', 'Documentary,Romance',\n",
       "       'Game Show,Horror', 'Horror,Anime', 'Game Show,Family',\n",
       "       'Documentary,1978', 'Family,Action & Adventure', 'Mystery,2020',\n",
       "       'Reality,2015', 'Comedy,Children', 'Drama,2009',\n",
       "       'Action & Adventure,1971', 'Game Show,Comedy',\n",
       "       '1958,Free Services', 'Sport,Reality', 'Comedy,1988',\n",
       "       'Family,Game Show', 'Documentary,2004', 'Comedy,1962',\n",
       "       'Comedy,1968', 'Reality,Mystery', 'Comedy,1950', 'Reality,Musical',\n",
       "       'Family,2020', 'Family,Animation', 'Sport,Action & Adventure',\n",
       "       'Reality,Crime', 'Comedy,1963', 'Fantasy,Thriller',\n",
       "       'Action & Adventure,Biography', 'Comedy,1966', 'Thriller,Mystery',\n",
       "       'Anime,Animation', 'Documentary,Science-Fiction',\n",
       "       'Game Show,Action & Adventure', 'Drama,1986',\n",
       "       'Children,Documentary', 'Action & Adventure,2020',\n",
       "       'Documentary,2012', 'Romance,2010', '1965,Starz',\n",
       "       '1957,Free Services', 'Mystery,Crime', 'Comedy,1976',\n",
       "       'Musical,Family', 'Drama,2004', '2008,Free Services', 'Drama,1959',\n",
       "       'Game Show,2010', 'Drama,1994', 'Animation,Game Show',\n",
       "       'Food,Travel', 'Family,Home & Garden', 'Reality,2010',\n",
       "       'Comedy,1984', 'Horror,Fantasy', 'Game Show,2006',\n",
       "       'Mystery,Animation', 'Crime,Anime', 'Action & Adventure,Travel',\n",
       "       'Animation,Horror', 'Musical,2018', 'Fantasy,Comedy',\n",
       "       'Comedy,Food', 'Crime,History', 'Documentary,2009',\n",
       "       'Game Show,2009', 'Home & Garden,2019', 'Comedy,1961',\n",
       "       'Science-Fiction,Crime', '2013,Free Services', 'Drama,1995',\n",
       "       'Reality,2017', 'Reality,Anime', 'Fantasy,Game Show',\n",
       "       'Comedy,1967', 'Food,Home & Garden', 'Game Show,2013',\n",
       "       'Documentary,2007', 'Family,Children', 'Sport,2019',\n",
       "       'Family,Science-Fiction', 'Documentary,Musical', 'Reality,2009',\n",
       "       '1958,Prime Video', 'Action & Adventure,1993', 'Drama,1988',\n",
       "       'Animation,LGBTQ', 'Game Show,2008', '2015,Prime Video',\n",
       "       'Drama,Animation', 'Animation,2020', 'Reality,2005', 'Drama,2000',\n",
       "       'Documentary,2013', 'Crime,Action & Adventure', '2015,Netflix',\n",
       "       'Animation,2009', 'Game Show,2017', 'Action & Adventure,1951',\n",
       "       'Home & Garden,2020', '2017,Prime Video', '1968,Free Services',\n",
       "       '2008,Netflix', 'Documentary,2006', 'Animation,2010',\n",
       "       '2019,Netflix', 'Comedy,1949', '2000,Free Services',\n",
       "       'Animation,Sport', 'Documentary,1980', 'Documentary,2005',\n",
       "       'Food,2011', '2018,HBO MAX', 'History,Crime', 'Family,2017',\n",
       "       'Children,Game Show', 'Documentary,1999', 'Home & Garden,2014',\n",
       "       'Reality,Fantasy', 'Action & Adventure,1950',\n",
       "       'Action & Adventure,1952', 'Science-Fiction,Children',\n",
       "       'Travel,Documentary', 'Documentary,1989', '2020,Prime Video',\n",
       "       'Musical,Reality', 'Reality,2000', 'Romance,Fantasy',\n",
       "       '2013,Prime Video', 'Horror,Crime', 'Sport,1995', 'Animation,2018',\n",
       "       'Thriller,2017', '2018,Free Services', 'Romance,2007',\n",
       "       'Food,Family', 'Drama,2002', 'Game Show,2018', 'Animation,2013',\n",
       "       'Reality,2004', 'Family,2014', 'Documentary,2008',\n",
       "       'Thriller,Horror', '1991,Hulu', 'Documentary,1981', 'Drama,1997',\n",
       "       'Game Show,2020', 'Documentary,Children', 'Comedy,Thriller',\n",
       "       'Drama,1974', 'Documentary,1988', 'Action & Adventure,2013',\n",
       "       'Sport,1977', 'Drama,1993', 'Animation,Crime', 'Game Show,Romance',\n",
       "       '1959,Free Services', 'Mystery,Action & Adventure',\n",
       "       'Mystery,History', 'Drama,1954', 'Game Show,2014', 'Reality,1999',\n",
       "       'Drama,1992', 'Crime,Science-Fiction', 'History,2018',\n",
       "       'Thriller,Documentary', '1952,Free Services', 'Romance,2018',\n",
       "       'Drama,1948', '1998,Free Services', '2012,Free Services',\n",
       "       'Crime,2016', '2018,Hulu', 'Game Show,2019', '2016,Free Services',\n",
       "       'Action & Adventure,1991', '2014,Prime Video', 'Food,Comedy',\n",
       "       'Documentary,Anime', 'Comedy,1957', '2011,Free Services',\n",
       "       'Mystery,Documentary', 'Musical,1976', 'Crime,2017',\n",
       "       'Animation,Thriller', '1947,Free Services', 'Home & Garden,2009',\n",
       "       'Reality,2003', 'Documentary,2002', 'Fantasy,Reality',\n",
       "       '1983,Free Services', 'Animation,Reality', '2017,Viceland',\n",
       "       '2015,Hulu', 'Comedy,1953', 'Sport,2005', 'Reality,History',\n",
       "       '2015,Free Services', 'Reality,Stand-up & Talk',\n",
       "       '2010,CBS All Access', 'Game Show,1979', 'Game Show,1980',\n",
       "       'Sport,2011', 'Drama,1996', '2020,Disney+', '1975,Hulu',\n",
       "       '1997,Free Services', 'Action & Adventure,1956',\n",
       "       '2005,Free Services', 'Biography,Documentary', 'Thriller,2015',\n",
       "       'Comedy,1974', 'Animation,1996', 'Food,2013', 'Animation,2004',\n",
       "       '2017,Free Services', 'Drama,1975', 'Reality,1956', '1979,BritBox',\n",
       "       'Action & Adventure,2016', '2018,History', 'History,2008',\n",
       "       'Sport,2016', 'Drama,1966', '2017,Netflix',\n",
       "       'Science-Fiction,Reality', '2019,Apple TV+', 'Children,2020',\n",
       "       '2019,Prime Video', '2017,Hulu', 'Animation,2015', 'Romance,2013',\n",
       "       'Home & Garden,1981', '2009,fuboTV', '2002,Starz',\n",
       "       'Game Show,2003', '2018,DC Universe', '2018,Hoopla', 'Drama,1957',\n",
       "       'Travel,2015', 'Reality,2006', 'Game Show,2016', 'Animation,2016',\n",
       "       'Sport,2007', 'Home & Garden,Documentary', '2019,Disney+',\n",
       "       'Food,2017', '1967,Free Services', '2019,Free Services',\n",
       "       'Romance,2016', '2017,BritBox', '2014,Hulu', 'Sport,1970',\n",
       "       '2016,fuboTV', 'Food,2015', '2011,Hulu', 'Fantasy,2014',\n",
       "       'Action & Adventure,2018', 'Travel,Reality', 'Romance,Sport',\n",
       "       'Documentary,2000', '2016,AcornTV', 'Game Show,Food',\n",
       "       '2012,fuboTV', '2016,AMC', 'Fantasy,2018', '1996,Hulu',\n",
       "       'Documentary,1949', 'Food,2018', 'Action & Adventure,2005',\n",
       "       '2017,BET', 'Musical,2014', '2016,Prime Video', 'Crime,2014',\n",
       "       'Reality,1989', 'Musical,Documentary', 'Animation,2011',\n",
       "       'Documentary,1991', 'Family,2016', 'Crime,2004', '1981,Hulu',\n",
       "       'Crime,Animation', 'Crime,Comedy', '1956,Free Services',\n",
       "       '2000,Prime Video', 'Mystery,Horror', 'Children,Reality',\n",
       "       'Home & Garden,2016', 'Home & Garden,Food', 'Documentary,1954',\n",
       "       'Family,2012', 'Sport,2006', '2013,TLC', '2020,HBO MAX',\n",
       "       '1960,Free Services', 'Family,2019', '2013,Cinemax',\n",
       "       'Animation,2019', '2011,fuboTV', 'Food,2019', 'Mystery,2019',\n",
       "       'Game Show,2011', 'Children,2006', 'Crime,2018',\n",
       "       '2002,Prime Video', '2020,Free Services', 'Game Show,Sport',\n",
       "       'Mystery,2012', 'Biography,2009', 'Game Show,History',\n",
       "       'Animation,Musical', '2014,Free Services', '2017,Hoopla',\n",
       "       '2020,Apple TV+', '2019,Science', '2018,Prime Video',\n",
       "       '2018,fuboTV', '2017,TLC', 'Documentary,1997',\n",
       "       'Home & Garden,2013', '2011,Prime Video', 'History,2015',\n",
       "       'Sport,2014', 'Sport,2004', '2011,Netflix', '2015,TLC',\n",
       "       '2012,Hulu', 'Animation,2008', 'Animation,Mystery',\n",
       "       'Reality,Children', '2009,TLC', 'Reality,Science-Fiction',\n",
       "       '2015,HBO MAX', '2002,Hulu', 'Action & Adventure,2019',\n",
       "       '2016,Netflix', 'Action & Adventure,2014', '2007,Free Services',\n",
       "       'Horror,2016', 'Action & Adventure,2015', 'Family,2015',\n",
       "       'Sport,2013', 'Animation,2017', '2019,Hulu', 'Documentary,1998',\n",
       "       '2003,Prime Video', '2020,NatGeo', '2009,MTV', '1931,Hulu',\n",
       "       '2011,Funimation', 'History,2016', 'Fantasy,2015', '2007,Hulu',\n",
       "       '2006,Hoopla', '2017,fuboTV', 'Family,1999', '2019,fuboTV',\n",
       "       'Food,1998', '2012,HBO MAX', '2008,Prime Video',\n",
       "       '1994,Prime Video', '2010,Free Services', '2010,Netflix',\n",
       "       '2016,TLC', 'Musical,2011', '2012,BritBox', 'Family,2018',\n",
       "       'Drama,1981', '2017,Science', '2016,Hulu', 'Family,2013',\n",
       "       'Family,2004', '2013,Hulu', '2015,fuboTV', 'Animation,2014',\n",
       "       'Action & Adventure,2008', 'Romance,2009', '1992,Free Services',\n",
       "       'Home & Garden,2012', 'Home & Garden,2006', '2010,MTV',\n",
       "       '2009,Free Services', 'Romance,2015', 'Animation,1965',\n",
       "       '2014,HBO MAX', '2016,Food Network', 'Home & Garden,2007',\n",
       "       'Home & Garden,2015', 'Family,2011', '2003,Hulu', '2014,Netflix',\n",
       "       '2013,Netflix', 'Home & Garden,2018', 'Science-Fiction,2014',\n",
       "       '2017,Lifetime', '2004,Prime Video', '1997,Disney+', '2014,fuboTV',\n",
       "       'Travel,Action & Adventure', '2014,BritBox', '2006,Prime Video',\n",
       "       'Romance,2011', '2005,Starz', 'Science-Fiction,2019',\n",
       "       '2012,Disney+', '2006,Free Services', 'Animation,2006',\n",
       "       '2018,Disney+', '2013,fuboTV', '2018,Science',\n",
       "       '1986,Free Services', '2010,Prime Video', 'Crime,2019',\n",
       "       '1901,Free Services', '1960,Hulu', '1995,Hoopla', '2018,TLC',\n",
       "       '2018,FOX', '1997,Hulu', '2012,Prime Video', '2016,Disney+',\n",
       "       '1977,Prime Video', '1970,Prime Video', '2010,Hulu', '2011,Hoopla',\n",
       "       '2018,Showtime', '1950,Hoopla', '2016,Hoopla', '2009,Netflix',\n",
       "       '1904,Prime Video', '1999,Hulu', '1963,Free Services', '2020,Hulu',\n",
       "       '1948,Prime Video', '1945,Prime Video', 'Animation,1943',\n",
       "       '1995,Free Services', '1994,AcornTV', '2014,Science', '2018,HBO',\n",
       "       '1973,fuboTV', '2019,HBO MAX', 'Biography,2013', '2012,Netflix',\n",
       "       '2015,FOX', '1996,Free Services', '2001,Prime Video',\n",
       "       '1996,Prime Video', '1960,Prime Video', '1961,Prime Video',\n",
       "       '2015,Showtime', '1983,Prime Video', '2012,Starz', '1993,BritBox',\n",
       "       '2004,Free Services', '2003,AcornTV', 'Animation,2012',\n",
       "       '2009,Prime Video', '2017,CBS All Access', 'Drama,1947',\n",
       "       '2006,Hulu', '1994,Free Services', '2019,BritBox'], dtype=object)"
      ]
     },
     "execution_count": 56,
     "metadata": {},
     "output_type": "execute_result"
    }
   ],
   "source": [
    "data[\"Genre\"].unique()"
   ]
  },
  {
   "cell_type": "code",
   "execution_count": 57,
   "id": "67a2d263",
   "metadata": {},
   "outputs": [
    {
     "name": "stdout",
     "output_type": "stream",
     "text": [
      "{'History', 'YouTube Premium', 'AcornTV', 'DC Universe', 'NBC', 'Science', 'BET+', 'HBO', 'TLC', 'BBC America', 'FOX', 'Nick', 'Starz', 'Sundance', 'BET', 'TBS', 'IFC', 'HBO MAX', 'Peacock Premium', 'Cinemax', 'Cartoon Network', 'CBS All Access', 'Hoopla', 'Disney+', 'Syfy', 'TruTV', 'Hallmark Movies Now', 'CNBC', 'IndieFlix', 'ABC', 'Apple TV+', 'DIY', 'Disney', 'TVLand', 'Crunchyroll', 'Prime Video', 'Adult Swim', 'Epix', 'HGTV', 'Shudder', 'A&E', 'Bravo', 'Hallmark', 'NatGeo', 'Hulu', 'Netflix', 'Showtime', 'fuboTV', 'USA', 'FX', 'VH1', 'Funimation', 'Comedy Central', 'AMC', 'Food Network', 'TNT', 'Travel Channel', 'FYI', 'Viceland', 'Free Services', 'MTV', 'AMC Premiere', 'BritBox', 'Lifetime'}\n"
     ]
    }
   ],
   "source": [
    "# We make a set of unique streaming platforms\n",
    "all_platforms=[]\n",
    "for i in data[\"Streaming Platform\"]:\n",
    "    a=i.split(\",\")\n",
    "    all_platforms.extend(a)\n",
    "\n",
    "all_platforms=set(all_platforms)\n",
    "print(all_platforms)\n"
   ]
  },
  {
   "cell_type": "code",
   "execution_count": 58,
   "id": "ebaaf3c1",
   "metadata": {},
   "outputs": [
    {
     "data": {
      "text/html": [
       "<div>\n",
       "<style scoped>\n",
       "    .dataframe tbody tr th:only-of-type {\n",
       "        vertical-align: middle;\n",
       "    }\n",
       "\n",
       "    .dataframe tbody tr th {\n",
       "        vertical-align: top;\n",
       "    }\n",
       "\n",
       "    .dataframe thead th {\n",
       "        text-align: right;\n",
       "    }\n",
       "</style>\n",
       "<table border=\"1\" class=\"dataframe\">\n",
       "  <thead>\n",
       "    <tr style=\"text-align: right;\">\n",
       "      <th></th>\n",
       "      <th>Series Title</th>\n",
       "      <th>Year Released</th>\n",
       "      <th>Content Rating</th>\n",
       "      <th>IMDB Rating</th>\n",
       "      <th>R Rating</th>\n",
       "      <th>Description</th>\n",
       "      <th>No of Seasons</th>\n",
       "      <th>Streaming Platform</th>\n",
       "      <th>-Fiction</th>\n",
       "      <th>Action &amp; Adventure</th>\n",
       "      <th>...</th>\n",
       "      <th>MAX</th>\n",
       "      <th>Musical</th>\n",
       "      <th>Mystery</th>\n",
       "      <th>Reality</th>\n",
       "      <th>Romance</th>\n",
       "      <th>Sport</th>\n",
       "      <th>Stand-up &amp; Talk</th>\n",
       "      <th>Thriller</th>\n",
       "      <th>Travel</th>\n",
       "      <th>Unknown</th>\n",
       "    </tr>\n",
       "  </thead>\n",
       "  <tbody>\n",
       "    <tr>\n",
       "      <th>0</th>\n",
       "      <td>Breaking Bad</td>\n",
       "      <td>2008</td>\n",
       "      <td>18+</td>\n",
       "      <td>9.5</td>\n",
       "      <td>100</td>\n",
       "      <td>When Walter White, a New Mexico chemistry teac...</td>\n",
       "      <td>5Seasons</td>\n",
       "      <td>Netflix</td>\n",
       "      <td>0</td>\n",
       "      <td>0</td>\n",
       "      <td>...</td>\n",
       "      <td>0</td>\n",
       "      <td>0</td>\n",
       "      <td>0</td>\n",
       "      <td>0</td>\n",
       "      <td>0</td>\n",
       "      <td>0</td>\n",
       "      <td>0</td>\n",
       "      <td>0</td>\n",
       "      <td>0</td>\n",
       "      <td>0</td>\n",
       "    </tr>\n",
       "    <tr>\n",
       "      <th>1</th>\n",
       "      <td>Game of Thrones</td>\n",
       "      <td>2011</td>\n",
       "      <td>18+</td>\n",
       "      <td>9.3</td>\n",
       "      <td>99</td>\n",
       "      <td>Seven noble families fight for control of the ...</td>\n",
       "      <td>8Seasons</td>\n",
       "      <td>HBO MAX,HBO</td>\n",
       "      <td>0</td>\n",
       "      <td>1</td>\n",
       "      <td>...</td>\n",
       "      <td>0</td>\n",
       "      <td>0</td>\n",
       "      <td>0</td>\n",
       "      <td>0</td>\n",
       "      <td>0</td>\n",
       "      <td>0</td>\n",
       "      <td>0</td>\n",
       "      <td>0</td>\n",
       "      <td>0</td>\n",
       "      <td>0</td>\n",
       "    </tr>\n",
       "    <tr>\n",
       "      <th>2</th>\n",
       "      <td>Rick and Morty</td>\n",
       "      <td>2013</td>\n",
       "      <td>18+</td>\n",
       "      <td>9.2</td>\n",
       "      <td>97</td>\n",
       "      <td>Rick is a mentally-unbalanced but scientifical...</td>\n",
       "      <td>4Seasons</td>\n",
       "      <td>Free Services,HBO MAX,Hulu</td>\n",
       "      <td>0</td>\n",
       "      <td>0</td>\n",
       "      <td>...</td>\n",
       "      <td>0</td>\n",
       "      <td>0</td>\n",
       "      <td>0</td>\n",
       "      <td>0</td>\n",
       "      <td>0</td>\n",
       "      <td>0</td>\n",
       "      <td>0</td>\n",
       "      <td>0</td>\n",
       "      <td>0</td>\n",
       "      <td>0</td>\n",
       "    </tr>\n",
       "    <tr>\n",
       "      <th>3</th>\n",
       "      <td>Stranger Things</td>\n",
       "      <td>2016</td>\n",
       "      <td>16+</td>\n",
       "      <td>8.8</td>\n",
       "      <td>96</td>\n",
       "      <td>When a young boy vanishes, a small town uncove...</td>\n",
       "      <td>3Seasons</td>\n",
       "      <td>Netflix</td>\n",
       "      <td>0</td>\n",
       "      <td>0</td>\n",
       "      <td>...</td>\n",
       "      <td>0</td>\n",
       "      <td>0</td>\n",
       "      <td>0</td>\n",
       "      <td>0</td>\n",
       "      <td>0</td>\n",
       "      <td>0</td>\n",
       "      <td>0</td>\n",
       "      <td>0</td>\n",
       "      <td>0</td>\n",
       "      <td>0</td>\n",
       "    </tr>\n",
       "    <tr>\n",
       "      <th>4</th>\n",
       "      <td>The Boys</td>\n",
       "      <td>2019</td>\n",
       "      <td>18+</td>\n",
       "      <td>8.7</td>\n",
       "      <td>95</td>\n",
       "      <td>A group of vigilantes known informally as “The...</td>\n",
       "      <td>2Seasons</td>\n",
       "      <td>Prime Video</td>\n",
       "      <td>0</td>\n",
       "      <td>1</td>\n",
       "      <td>...</td>\n",
       "      <td>0</td>\n",
       "      <td>0</td>\n",
       "      <td>0</td>\n",
       "      <td>0</td>\n",
       "      <td>0</td>\n",
       "      <td>0</td>\n",
       "      <td>0</td>\n",
       "      <td>0</td>\n",
       "      <td>0</td>\n",
       "      <td>0</td>\n",
       "    </tr>\n",
       "  </tbody>\n",
       "</table>\n",
       "<p>5 rows × 36 columns</p>\n",
       "</div>"
      ],
      "text/plain": [
       "      Series Title  Year Released Content Rating  IMDB Rating  R Rating  \\\n",
       "0     Breaking Bad           2008            18+          9.5       100   \n",
       "1  Game of Thrones           2011            18+          9.3        99   \n",
       "2   Rick and Morty           2013            18+          9.2        97   \n",
       "3  Stranger Things           2016            16+          8.8        96   \n",
       "4         The Boys           2019            18+          8.7        95   \n",
       "\n",
       "                                         Description No of Seasons  \\\n",
       "0  When Walter White, a New Mexico chemistry teac...      5Seasons   \n",
       "1  Seven noble families fight for control of the ...      8Seasons   \n",
       "2  Rick is a mentally-unbalanced but scientifical...      4Seasons   \n",
       "3  When a young boy vanishes, a small town uncove...      3Seasons   \n",
       "4  A group of vigilantes known informally as “The...      2Seasons   \n",
       "\n",
       "           Streaming Platform  -Fiction  Action & Adventure  ...  MAX  \\\n",
       "0                     Netflix         0                   0  ...    0   \n",
       "1                 HBO MAX,HBO         0                   1  ...    0   \n",
       "2  Free Services,HBO MAX,Hulu         0                   0  ...    0   \n",
       "3                     Netflix         0                   0  ...    0   \n",
       "4                 Prime Video         0                   1  ...    0   \n",
       "\n",
       "   Musical  Mystery  Reality  Romance  Sport  Stand-up & Talk  Thriller  \\\n",
       "0        0        0        0        0      0                0         0   \n",
       "1        0        0        0        0      0                0         0   \n",
       "2        0        0        0        0      0                0         0   \n",
       "3        0        0        0        0      0                0         0   \n",
       "4        0        0        0        0      0                0         0   \n",
       "\n",
       "   Travel  Unknown  \n",
       "0       0        0  \n",
       "1       0        0  \n",
       "2       0        0  \n",
       "3       0        0  \n",
       "4       0        0  \n",
       "\n",
       "[5 rows x 36 columns]"
      ]
     },
     "execution_count": 58,
     "metadata": {},
     "output_type": "execute_result"
    }
   ],
   "source": [
    "# Cleaning \"Genre\" column & creating dummy variables to replace different genres\n",
    "for i in all_platforms:\n",
    "    data[\"Genre\"]=data[\"Genre\"].str.replace(i,\"\")\n",
    "\n",
    "data[\"Genre\"]=data[\"Genre\"].str.replace(r'\\b\\d{4}\\b', '', regex=True)\n",
    "data[\"Genre\"]=data[\"Genre\"].str.replace(r'\\+', '', regex=True)\n",
    "data[\"Genre\"]=data[\"Genre\"].apply(lambda x:\"Unknown\" if x==\"-1\" else x)\n",
    "data[\"Genre\"]=data[\"Genre\"].str.replace(r'^,|(?<=,),$|,$', '', regex=True)\n",
    "data[\"Genre\"]=data[\"Genre\"].str.strip()\n",
    "data[\"Genre\"]=data[\"Genre\"].apply(lambda x:\"Unknown\" if x.strip()==\"\" else x)\n",
    "\n",
    "data = data.join(\n",
    "    data[\"Genre\"].str.get_dummies(sep=',')\n",
    ")\n",
    "\n",
    "data=data.drop(columns=[\"Genre\"])\n",
    "data.head()"
   ]
  },
  {
   "cell_type": "code",
   "execution_count": 59,
   "id": "e44c51a9",
   "metadata": {},
   "outputs": [
    {
     "data": {
      "text/plain": [
       "array(['18+', '16+', '7+', 'all', nan, '13+'], dtype=object)"
      ]
     },
     "execution_count": 59,
     "metadata": {},
     "output_type": "execute_result"
    }
   ],
   "source": [
    "# Content Rating variable\n",
    "data[\"Content Rating\"].unique()"
   ]
  },
  {
   "cell_type": "code",
   "execution_count": 60,
   "id": "30ee418a",
   "metadata": {},
   "outputs": [],
   "source": [
    "data[\"Content Rating\"]=data[\"Content Rating\"].str.replace(\"+\", \"\")\n",
    "data[\"Content Rating\"]=data[\"Content Rating\"]=data[\"Content Rating\"].transform(lambda x: x.fillna(\"0\"))\n",
    "data[\"Content Rating\"]=data[\"Content Rating\"].str.replace(\"all\", \"0\")\n",
    "data[\"Content Rating\"]=data[\"Content Rating\"].apply(lambda x:\"R Rated\" if x==\"18\" else \"Not R Rated\")"
   ]
  },
  {
   "cell_type": "code",
   "execution_count": 61,
   "id": "f2a2368a",
   "metadata": {},
   "outputs": [
    {
     "data": {
      "text/plain": [
       "['Series Title',\n",
       " 'Year Released',\n",
       " 'Content Rating',\n",
       " 'IMDB Rating',\n",
       " 'R Rating',\n",
       " 'Description',\n",
       " 'No of Seasons',\n",
       " 'Streaming Platform',\n",
       " '-Fiction',\n",
       " 'Action & Adventure',\n",
       " 'Animation',\n",
       " 'Anime',\n",
       " 'Biography',\n",
       " 'Children',\n",
       " 'Comedy',\n",
       " 'Crime',\n",
       " 'Cult',\n",
       " 'Documentary',\n",
       " 'Drama',\n",
       " 'Family',\n",
       " 'Fantasy',\n",
       " 'Food',\n",
       " 'Game Show',\n",
       " 'Home & Garden',\n",
       " 'Horror',\n",
       " 'LGBTQ',\n",
       " 'MAX',\n",
       " 'Musical',\n",
       " 'Mystery',\n",
       " 'Reality',\n",
       " 'Romance',\n",
       " 'Sport',\n",
       " 'Stand-up & Talk',\n",
       " 'Thriller',\n",
       " 'Travel',\n",
       " 'Unknown',\n",
       " 'Content_Rating_Not R Rated',\n",
       " 'Content_Rating_R Rated']"
      ]
     },
     "execution_count": 61,
     "metadata": {},
     "output_type": "execute_result"
    }
   ],
   "source": [
    "dummies=pd.get_dummies(data[\"Content Rating\"])\n",
    "data=pd.concat([data, pd.get_dummies(data[\"Content Rating\"], prefix=\"Content_Rating\")], axis=1)\n",
    "list(data.columns.values)"
   ]
  },
  {
   "cell_type": "code",
   "execution_count": 62,
   "id": "71531db0",
   "metadata": {},
   "outputs": [
    {
     "data": {
      "text/plain": [
       "array(['5Seasons', '8Seasons', '4Seasons', '3Seasons', '2Seasons',\n",
       "       '1Season', '10Seasons', '9Seasons', '15 Seasons', '1 Season',\n",
       "       '5 Seasons', '31 Seasons', '6Seasons', '6 Seasons', '7 Seasons',\n",
       "       '23 Seasons', '7Seasons', '10 Seasons', '12Seasons', '11 Seasons',\n",
       "       '14Seasons', '3 Seasons', '4 Seasons', '16 Seasons', '11Seasons',\n",
       "       '2 Seasons', '9 Seasons', '8 Seasons', '24 Seasons', '19 Seasons',\n",
       "       '18 Seasons', '17 Seasons', '12 Seasons', '21 Seasons',\n",
       "       '16Seasons', '28 Seasons', '13Seasons', '29 Seasons', '45 Seasons',\n",
       "       '21Seasons', '27 Seasons', '25 Seasons', '40 Seasons', '20Seasons',\n",
       "       '14 Seasons', '51 Seasons', '13 Seasons', '15Seasons',\n",
       "       '20 Seasons', '24Seasons', '62 Seasons', '35 Seasons',\n",
       "       '44 Seasons', '18Seasons', '17Seasons', '75 Seasons', '54 Seasons',\n",
       "       '27Seasons', '22 Seasons', '32Seasons', '187 Seasons', '31Seasons',\n",
       "       '36 Seasons', '26 Seasons', '32 Seasons', '52 Seasons',\n",
       "       '34 Seasons', '37 Seasons', '77 Seasons', '41 Seasons',\n",
       "       '42 Seasons', '60 Seasons', '33 Seasons', '160 Seasons',\n",
       "       '38Seasons', '22Seasons', '84Seasons', '23Seasons', '25Seasons',\n",
       "       '39Seasons', '19Seasons', '42Seasons', '40Seasons', '43 Seasons',\n",
       "       '48 Seasons', '33Seasons', '29Seasons', '71 Seasons', '82 Seasons',\n",
       "       '57Seasons', '45Seasons', '26Seasons'], dtype=object)"
      ]
     },
     "execution_count": 62,
     "metadata": {},
     "output_type": "execute_result"
    }
   ],
   "source": [
    "# Seasons variable\n",
    "data[\"No of Seasons\"].unique()"
   ]
  },
  {
   "cell_type": "code",
   "execution_count": 63,
   "id": "b5aa23b7",
   "metadata": {},
   "outputs": [],
   "source": [
    "data[\"No of Seasons\"]=data[\"No of Seasons\"].str.replace(r\"\\D\", \"\", regex=True)\n",
    "data[\"No of Seasons\"]=pd.to_numeric(data[\"No of Seasons\"])"
   ]
  },
  {
   "cell_type": "code",
   "execution_count": 64,
   "id": "f2a43935",
   "metadata": {},
   "outputs": [
    {
     "data": {
      "text/plain": [
       "array([  5,   8,   4,   3,   2,   1,  10,   9,  15,  31,   6,   7,  23,\n",
       "        12,  11,  14,  16,  24,  19,  18,  17,  21,  28,  13,  29,  45,\n",
       "        27,  25,  40,  20,  51,  62,  35,  44,  75,  54,  22,  32, 187,\n",
       "        36,  26,  52,  34,  37,  77,  41,  42,  60,  33, 160,  38,  84,\n",
       "        39,  43,  48,  71,  82,  57])"
      ]
     },
     "execution_count": 64,
     "metadata": {},
     "output_type": "execute_result"
    }
   ],
   "source": [
    "data[\"No of Seasons\"].unique()"
   ]
  },
  {
   "cell_type": "code",
   "execution_count": 65,
   "id": "03f79824",
   "metadata": {},
   "outputs": [],
   "source": [
    "# Streaming Platform\n",
    "data[\"Streaming Platform\"].unique()\n",
    "data[\"Platform Count\"]=data[\"Streaming Platform\"].apply(lambda x: len(x.split(\", \")))\n"
   ]
  },
  {
   "cell_type": "code",
   "execution_count": 66,
   "id": "b5a3ff62",
   "metadata": {},
   "outputs": [
    {
     "name": "stdout",
     "output_type": "stream",
     "text": [
      "SignificanceResult(statistic=np.float64(0.09808792944352131), pvalue=np.float64(2.9770847435335363e-20))\n"
     ]
    }
   ],
   "source": [
    "# Spearman Correlation\n",
    "# The correlation is small, we can keep both variables\n",
    "correlation=stats.spearmanr(data[\"Reality\"], data[\"Documentary\"])\n",
    "print(correlation)"
   ]
  },
  {
   "cell_type": "markdown",
   "id": "bbc91eda",
   "metadata": {},
   "source": [
    "The **dupliactes** are removed. After performing all of the data cleaning operations there are no null values."
   ]
  },
  {
   "cell_type": "code",
   "execution_count": 67,
   "id": "ae0cf1f7",
   "metadata": {},
   "outputs": [],
   "source": [
    "# Deleting duplicates\n",
    "data=data.drop_duplicates()"
   ]
  },
  {
   "cell_type": "code",
   "execution_count": 68,
   "id": "9cb0b710",
   "metadata": {},
   "outputs": [
    {
     "data": {
      "text/plain": [
       "np.False_"
      ]
     },
     "execution_count": 68,
     "metadata": {},
     "output_type": "execute_result"
    }
   ],
   "source": [
    "# No empty values\n",
    "data.isnull().values.any()"
   ]
  },
  {
   "cell_type": "markdown",
   "id": "1fcb71de",
   "metadata": {},
   "source": [
    "### 📝 Preparing the **Description** Column\n",
    "\n",
    "The **Description** column is preprocessed for modeling using basic text mining techniques:\n",
    "\n",
    "- Common **stop words** are removed.\n",
    "- The text is **tokenized** into individual words.\n",
    "- From the tokenized text,**unigrams**, **bigrams**, **trigrams**, and **four-grams** are extracted.\n",
    "- The most **frequent and meaningful n-grams** are selected and converted into **binary features** \n",
    "\n",
    "This process captures useful textual patterns that may help improve predictive performance.\n",
    "\n",
    "For example, words such as \"featuring\" can communicate that the show includes a famous actor and that can in turn lead to higher ratings."
   ]
  },
  {
   "cell_type": "code",
   "execution_count": 69,
   "id": "530670f8",
   "metadata": {},
   "outputs": [],
   "source": [
    "# Combine built-in and custom stop words\n",
    "custom_stop_words = set([\n",
    "    \"movie\", \"about\", \"with\", \"will\", \"that\", \"leave\", \"episodes\",\n",
    "    \"imdb\", \"season\", \"seasons\", \"hulu\", \"prime\"\n",
    "])\n",
    "stop_words = set(stopwords.words('english')).union(ENGLISH_STOP_WORDS).union(custom_stop_words)"
   ]
  },
  {
   "cell_type": "code",
   "execution_count": 70,
   "id": "c0308009",
   "metadata": {},
   "outputs": [],
   "source": [
    "# Clean and tokenize function\n",
    "def clean_and_tokenize(text):\n",
    "    text = text.lower()\n",
    "    text = re.sub(r'[^a-z\\s]', '', text)\n",
    "    tokens = text.split()\n",
    "    return [word for word in tokens if word not in stop_words]\n",
    "\n",
    "# N-gram extraction function\n",
    "def extract_ngrams(df, n):\n",
    "    all_ngrams = []\n",
    "\n",
    "    for description in df['Description'].dropna():\n",
    "        tokens = clean_and_tokenize(description)\n",
    "        n_gram_list = ngrams(tokens, n)\n",
    "        filtered = [\n",
    "            ' '.join(gram) for gram in n_gram_list\n",
    "            if all(word not in stop_words for word in gram)\n",
    "        ]\n",
    "        all_ngrams.extend(filtered)\n",
    "\n",
    "    # Count frequency\n",
    "    ngram_counts = Counter(all_ngrams)\n",
    "\n",
    "    # Convert to DataFrame\n",
    "    ngram_df = pd.DataFrame(ngram_counts.items(), columns=['ngram', 'count'])\n",
    "    ngram_df = ngram_df.sort_values(by='count', ascending=False).reset_index(drop=True)\n",
    "\n",
    "    return ngram_df"
   ]
  },
  {
   "cell_type": "code",
   "execution_count": 71,
   "id": "11c28cad",
   "metadata": {},
   "outputs": [
    {
     "name": "stdout",
     "output_type": "stream",
     "text": [
      "Most common bigrams:\n",
      "                    ngram  count\n",
      "0         audience rating   8291\n",
      "1            rating votes   8257\n",
      "2  streaming subscription   8220\n",
      "3        average audience   5189\n",
      "4      available purchase   5088\n",
      "5                 air new   4703\n",
      "6          longer running   4701\n",
      "7           running plans   4701\n",
      "8               plans air   4701\n",
      "9        airing announced   3940\n"
     ]
    }
   ],
   "source": [
    "# Extract and count bigrams\n",
    "bigrams = extract_ngrams(data, 2)\n",
    "print(\"Most common bigrams:\")\n",
    "print(bigrams.head(10))"
   ]
  },
  {
   "cell_type": "code",
   "execution_count": 72,
   "id": "487082ab",
   "metadata": {},
   "outputs": [
    {
     "name": "stdout",
     "output_type": "stream",
     "text": [
      "\n",
      "Most common trigrams:\n",
      "                       ngram  count\n",
      "0      audience rating votes   8257\n",
      "1    average audience rating   5189\n",
      "2       longer running plans   4701\n",
      "3          running plans air   4701\n",
      "4              plans air new   4701\n",
      "5     announced date episode   3940\n",
      "6      airing announced date   3940\n",
      "7       high audience rating   2867\n",
      "8    better average audience   2836\n",
      "9  available purchase itunes   2375\n"
     ]
    }
   ],
   "source": [
    "# Extract and count trigrams\n",
    "trigrams = extract_ngrams(data, 3)\n",
    "print(\"\\nMost common trigrams:\")\n",
    "print(trigrams.head(10))"
   ]
  },
  {
   "cell_type": "code",
   "execution_count": 73,
   "id": "e56732e1",
   "metadata": {},
   "outputs": [
    {
     "name": "stdout",
     "output_type": "stream",
     "text": [
      "\n",
      "Most common 4-grams:\n",
      "                            ngram  count\n",
      "0   average audience rating votes   5167\n",
      "1           running plans air new   4701\n",
      "2        longer running plans air   4701\n",
      "3   airing announced date episode   3940\n",
      "4      high audience rating votes   2856\n",
      "5  better average audience rating   2836\n",
      "6           air new high audience   1705\n",
      "7        new high audience rating   1705\n",
      "8              plans air new high   1705\n",
      "9     new better average audience   1695\n"
     ]
    }
   ],
   "source": [
    "# Extract and count 4-grams\n",
    "fourgrams = extract_ngrams(data, 4)\n",
    "print(\"\\nMost common 4-grams:\")\n",
    "print(fourgrams.head(10))"
   ]
  },
  {
   "cell_type": "code",
   "execution_count": 75,
   "id": "a7bd589a",
   "metadata": {},
   "outputs": [
    {
     "name": "stderr",
     "output_type": "stream",
     "text": [
      "[nltk_data] Downloading package punkt_tab to\n",
      "[nltk_data]     /home/karolina/nltk_data...\n",
      "[nltk_data]   Unzipping tokenizers/punkt_tab.zip.\n"
     ]
    }
   ],
   "source": [
    "# Tokenization\n",
    "nltk.download('punkt_tab')\n",
    "\n",
    "def tokenize_and_filter(text):\n",
    "    words = word_tokenize(text.lower())\n",
    "    filtered_words = [\n",
    "        word for word in words\n",
    "        if word.isalpha()\n",
    "        and word not in stop_words\n",
    "        and word not in custom_stop_words\n",
    "    ]\n",
    "    return filtered_words\n",
    "\n",
    "data['keywords'] = data['Description'].apply(tokenize_and_filter)\n",
    "\n",
    "df_keywords = data.explode('keywords')"
   ]
  },
  {
   "cell_type": "code",
   "execution_count": 76,
   "id": "3a438349",
   "metadata": {},
   "outputs": [
    {
     "name": "stdout",
     "output_type": "stream",
     "text": [
      "           word  count\n",
      "0     streaming  10774\n",
      "1      audience   8351\n",
      "2        rating   8305\n",
      "3         votes   8260\n",
      "4  subscription   8226\n",
      "5           new   6356\n",
      "6     featuring   6166\n",
      "7       average   5241\n",
      "8     available   5152\n",
      "9      purchase   5104\n"
     ]
    }
   ],
   "source": [
    "word_frequencies = df_keywords['keywords'].value_counts().reset_index()\n",
    "word_frequencies.columns = ['word', 'count']\n",
    "print(word_frequencies.head(10))"
   ]
  },
  {
   "cell_type": "code",
   "execution_count": 77,
   "id": "dab98bca",
   "metadata": {},
   "outputs": [
    {
     "name": "stdout",
     "output_type": "stream",
     "text": [
      "Index(['Series Title', 'Year Released', 'Content Rating', 'IMDB Rating',\n",
      "       'R Rating', 'Description', 'No of Seasons', 'Streaming Platform',\n",
      "       '-Fiction', 'Action & Adventure', 'Animation', 'Anime', 'Biography',\n",
      "       'Children', 'Comedy', 'Crime', 'Cult', 'Documentary', 'Drama', 'Family',\n",
      "       'Fantasy', 'Food', 'Game Show', 'Home & Garden', 'Horror', 'LGBTQ',\n",
      "       'MAX', 'Musical', 'Mystery', 'Reality', 'Romance', 'Sport',\n",
      "       'Stand-up & Talk', 'Thriller', 'Travel', 'Unknown',\n",
      "       'Content_Rating_Not R Rated', 'Content_Rating_R Rated',\n",
      "       'Platform Count', 'keywords', 'true_crime', 'world_war',\n",
      "       'award_winning', 'serial_killer', 'emmy_award', 'featuring', 'love'],\n",
      "      dtype='object')\n"
     ]
    }
   ],
   "source": [
    "# List of common phrases\n",
    "common_phrases = [\n",
    "    \"true crime\", \"food network\", \"world war\", \"award winning\",\n",
    "    \"serial killer\", \"emmy award\", \"featuring\", \"family\", \"love\"\n",
    "]\n",
    "\n",
    "data['Description'] = data['Description'].str.encode('ascii', errors='ignore').str.decode('ascii')\n",
    "\n",
    "data['true_crime'] = data['Description'].str.contains(common_phrases[0], case=False, na=False).astype(int)\n",
    "data['world_war'] = data['Description'].str.contains(common_phrases[2], case=False, na=False).astype(int)\n",
    "data['award_winning'] = data['Description'].str.contains(common_phrases[3], case=False, na=False).astype(int)\n",
    "data['serial_killer'] = data['Description'].str.contains(common_phrases[4], case=False, na=False).astype(int)\n",
    "data['emmy_award'] = data['Description'].str.contains(common_phrases[5], case=False, na=False).astype(int)\n",
    "data['featuring'] = data['Description'].str.contains(common_phrases[6], case=False, na=False).astype(int)\n",
    "data['love'] = data['Description'].str.contains(common_phrases[8], case=False, na=False).astype(int)\n",
    "\n",
    "print(data.columns)\n",
    "\n",
    "data['R_Rating'] = pd.to_numeric(data['R Rating'], errors='coerce')\n",
    "data['Genre_GameShow'] = data['Game Show']\n",
    "data['Genre_Animation'] = data['Animation']\n",
    "data['Genre_Children'] = data['Children']\n",
    "data['Genre_Crime'] = data['Crime']\n",
    "data['Genre_Drama'] = data['Drama']\n",
    "data['Genre_Anime'] = data['Anime']\n",
    "data['Genre_Comedy'] = data['Comedy']\n",
    "data['Genre_Documentary'] = data['Documentary']\n",
    "data['Genre_Reality'] = data['Reality']\n",
    "data['Genre_Fiction'] = data['-Fiction']\n",
    "data['Genre_ActionAdventure'] = data['Action & Adventure']\n",
    "data['Genre_HomeGarden'] = data['Home & Garden']\n",
    "data['Genre_StandupTalk'] = data['Stand-up & Talk']\n",
    "data['R_Rated'] = 'R Rated'\n",
    "\n",
    "data['ordinal_IMDBRating'] = pd.Categorical(data['IMDB Rating'].round().astype(int), ordered=True)\n"
   ]
  },
  {
   "cell_type": "code",
   "execution_count": 78,
   "id": "7e0b82c7",
   "metadata": {},
   "outputs": [
    {
     "data": {
      "text/plain": [
       "Index(['Series Title', 'Year Released', 'Content Rating', 'IMDB Rating',\n",
       "       'R Rating', 'Description', 'No of Seasons', 'Streaming Platform',\n",
       "       '-Fiction', 'Action & Adventure', 'Animation', 'Anime', 'Biography',\n",
       "       'Children', 'Comedy', 'Crime', 'Cult', 'Documentary', 'Drama', 'Family',\n",
       "       'Fantasy', 'Food', 'Game Show', 'Home & Garden', 'Horror', 'LGBTQ',\n",
       "       'MAX', 'Musical', 'Mystery', 'Reality', 'Romance', 'Sport',\n",
       "       'Stand-up & Talk', 'Thriller', 'Travel', 'Unknown',\n",
       "       'Content_Rating_Not R Rated', 'Content_Rating_R Rated',\n",
       "       'Platform Count', 'keywords', 'true_crime', 'world_war',\n",
       "       'award_winning', 'serial_killer', 'emmy_award', 'featuring', 'love',\n",
       "       'R_Rating', 'Genre_GameShow', 'Genre_Animation', 'Genre_Children',\n",
       "       'Genre_Crime', 'Genre_Drama', 'Genre_Anime', 'Genre_Comedy',\n",
       "       'Genre_Documentary', 'Genre_Reality', 'Genre_Fiction',\n",
       "       'Genre_ActionAdventure', 'Genre_HomeGarden', 'Genre_StandupTalk',\n",
       "       'R_Rated', 'ordinal_IMDBRating'],\n",
       "      dtype='object')"
      ]
     },
     "execution_count": 78,
     "metadata": {},
     "output_type": "execute_result"
    }
   ],
   "source": [
    "data.columns\n"
   ]
  }
 ],
 "metadata": {
  "kernelspec": {
   "display_name": ".venv",
   "language": "python",
   "name": "python3"
  },
  "language_info": {
   "codemirror_mode": {
    "name": "ipython",
    "version": 3
   },
   "file_extension": ".py",
   "mimetype": "text/x-python",
   "name": "python",
   "nbconvert_exporter": "python",
   "pygments_lexer": "ipython3",
   "version": "3.12.3"
  }
 },
 "nbformat": 4,
 "nbformat_minor": 5
}
